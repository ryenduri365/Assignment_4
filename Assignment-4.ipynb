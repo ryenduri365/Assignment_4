{
 "cells": [
  {
   "cell_type": "markdown",
   "id": "c6530d04-e909-4e22-a862-f2502e34565f",
   "metadata": {},
   "source": [
    "# Programming Assignment-4"
   ]
  },
  {
   "cell_type": "code",
   "execution_count": 7,
   "id": "99e08f62-adf3-4a11-89ec-e45023a9160f",
   "metadata": {},
   "outputs": [],
   "source": [
    "import pathlib\n",
    "from tqdm import tqdm\n",
    "import cv2\n",
    "import os.path\n",
    "import os\n",
    "import numpy as np\n",
    "import pandas as pd\n",
    "from glob import glob\n",
    "from pathlib import Path\n",
    "import warnings\n",
    "warnings.filterwarnings(\"ignore\")"
   ]
  },
  {
   "cell_type": "code",
   "execution_count": 2,
   "id": "fe7d4faf-db20-4cfb-a12a-10ecb48aec33",
   "metadata": {},
   "outputs": [],
   "source": [
    "desktop = pathlib.Path(\"Cropped\")"
   ]
  },
  {
   "cell_type": "code",
   "execution_count": 3,
   "id": "0a21391d-2739-425e-888c-753e1c0048ed",
   "metadata": {},
   "outputs": [],
   "source": [
    "import torch\n",
    "from torchvision.models import resnet18\n",
    "from PIL import Image\n",
    "from torchvision import transforms"
   ]
  },
  {
   "cell_type": "code",
   "execution_count": 4,
   "id": "99030a72-d2f1-41c3-8a9a-eeaf73de5ea3",
   "metadata": {},
   "outputs": [
    {
     "data": {
      "text/plain": [
       "Sequential(\n",
       "  (0): Conv2d(3, 64, kernel_size=(7, 7), stride=(2, 2), padding=(3, 3), bias=False)\n",
       "  (1): BatchNorm2d(64, eps=1e-05, momentum=0.1, affine=True, track_running_stats=True)\n",
       "  (2): ReLU(inplace=True)\n",
       "  (3): MaxPool2d(kernel_size=3, stride=2, padding=1, dilation=1, ceil_mode=False)\n",
       "  (4): Sequential(\n",
       "    (0): BasicBlock(\n",
       "      (conv1): Conv2d(64, 64, kernel_size=(3, 3), stride=(1, 1), padding=(1, 1), bias=False)\n",
       "      (bn1): BatchNorm2d(64, eps=1e-05, momentum=0.1, affine=True, track_running_stats=True)\n",
       "      (relu): ReLU(inplace=True)\n",
       "      (conv2): Conv2d(64, 64, kernel_size=(3, 3), stride=(1, 1), padding=(1, 1), bias=False)\n",
       "      (bn2): BatchNorm2d(64, eps=1e-05, momentum=0.1, affine=True, track_running_stats=True)\n",
       "    )\n",
       "    (1): BasicBlock(\n",
       "      (conv1): Conv2d(64, 64, kernel_size=(3, 3), stride=(1, 1), padding=(1, 1), bias=False)\n",
       "      (bn1): BatchNorm2d(64, eps=1e-05, momentum=0.1, affine=True, track_running_stats=True)\n",
       "      (relu): ReLU(inplace=True)\n",
       "      (conv2): Conv2d(64, 64, kernel_size=(3, 3), stride=(1, 1), padding=(1, 1), bias=False)\n",
       "      (bn2): BatchNorm2d(64, eps=1e-05, momentum=0.1, affine=True, track_running_stats=True)\n",
       "    )\n",
       "  )\n",
       "  (5): Sequential(\n",
       "    (0): BasicBlock(\n",
       "      (conv1): Conv2d(64, 128, kernel_size=(3, 3), stride=(2, 2), padding=(1, 1), bias=False)\n",
       "      (bn1): BatchNorm2d(128, eps=1e-05, momentum=0.1, affine=True, track_running_stats=True)\n",
       "      (relu): ReLU(inplace=True)\n",
       "      (conv2): Conv2d(128, 128, kernel_size=(3, 3), stride=(1, 1), padding=(1, 1), bias=False)\n",
       "      (bn2): BatchNorm2d(128, eps=1e-05, momentum=0.1, affine=True, track_running_stats=True)\n",
       "      (downsample): Sequential(\n",
       "        (0): Conv2d(64, 128, kernel_size=(1, 1), stride=(2, 2), bias=False)\n",
       "        (1): BatchNorm2d(128, eps=1e-05, momentum=0.1, affine=True, track_running_stats=True)\n",
       "      )\n",
       "    )\n",
       "    (1): BasicBlock(\n",
       "      (conv1): Conv2d(128, 128, kernel_size=(3, 3), stride=(1, 1), padding=(1, 1), bias=False)\n",
       "      (bn1): BatchNorm2d(128, eps=1e-05, momentum=0.1, affine=True, track_running_stats=True)\n",
       "      (relu): ReLU(inplace=True)\n",
       "      (conv2): Conv2d(128, 128, kernel_size=(3, 3), stride=(1, 1), padding=(1, 1), bias=False)\n",
       "      (bn2): BatchNorm2d(128, eps=1e-05, momentum=0.1, affine=True, track_running_stats=True)\n",
       "    )\n",
       "  )\n",
       "  (6): Sequential(\n",
       "    (0): BasicBlock(\n",
       "      (conv1): Conv2d(128, 256, kernel_size=(3, 3), stride=(2, 2), padding=(1, 1), bias=False)\n",
       "      (bn1): BatchNorm2d(256, eps=1e-05, momentum=0.1, affine=True, track_running_stats=True)\n",
       "      (relu): ReLU(inplace=True)\n",
       "      (conv2): Conv2d(256, 256, kernel_size=(3, 3), stride=(1, 1), padding=(1, 1), bias=False)\n",
       "      (bn2): BatchNorm2d(256, eps=1e-05, momentum=0.1, affine=True, track_running_stats=True)\n",
       "      (downsample): Sequential(\n",
       "        (0): Conv2d(128, 256, kernel_size=(1, 1), stride=(2, 2), bias=False)\n",
       "        (1): BatchNorm2d(256, eps=1e-05, momentum=0.1, affine=True, track_running_stats=True)\n",
       "      )\n",
       "    )\n",
       "    (1): BasicBlock(\n",
       "      (conv1): Conv2d(256, 256, kernel_size=(3, 3), stride=(1, 1), padding=(1, 1), bias=False)\n",
       "      (bn1): BatchNorm2d(256, eps=1e-05, momentum=0.1, affine=True, track_running_stats=True)\n",
       "      (relu): ReLU(inplace=True)\n",
       "      (conv2): Conv2d(256, 256, kernel_size=(3, 3), stride=(1, 1), padding=(1, 1), bias=False)\n",
       "      (bn2): BatchNorm2d(256, eps=1e-05, momentum=0.1, affine=True, track_running_stats=True)\n",
       "    )\n",
       "  )\n",
       "  (7): Sequential(\n",
       "    (0): BasicBlock(\n",
       "      (conv1): Conv2d(256, 512, kernel_size=(3, 3), stride=(2, 2), padding=(1, 1), bias=False)\n",
       "      (bn1): BatchNorm2d(512, eps=1e-05, momentum=0.1, affine=True, track_running_stats=True)\n",
       "      (relu): ReLU(inplace=True)\n",
       "      (conv2): Conv2d(512, 512, kernel_size=(3, 3), stride=(1, 1), padding=(1, 1), bias=False)\n",
       "      (bn2): BatchNorm2d(512, eps=1e-05, momentum=0.1, affine=True, track_running_stats=True)\n",
       "      (downsample): Sequential(\n",
       "        (0): Conv2d(256, 512, kernel_size=(1, 1), stride=(2, 2), bias=False)\n",
       "        (1): BatchNorm2d(512, eps=1e-05, momentum=0.1, affine=True, track_running_stats=True)\n",
       "      )\n",
       "    )\n",
       "    (1): BasicBlock(\n",
       "      (conv1): Conv2d(512, 512, kernel_size=(3, 3), stride=(1, 1), padding=(1, 1), bias=False)\n",
       "      (bn1): BatchNorm2d(512, eps=1e-05, momentum=0.1, affine=True, track_running_stats=True)\n",
       "      (relu): ReLU(inplace=True)\n",
       "      (conv2): Conv2d(512, 512, kernel_size=(3, 3), stride=(1, 1), padding=(1, 1), bias=False)\n",
       "      (bn2): BatchNorm2d(512, eps=1e-05, momentum=0.1, affine=True, track_running_stats=True)\n",
       "    )\n",
       "  )\n",
       "  (8): AdaptiveAvgPool2d(output_size=(1, 1))\n",
       ")"
      ]
     },
     "execution_count": 4,
     "metadata": {},
     "output_type": "execute_result"
    }
   ],
   "source": [
    "model=resnet18(pretrained=True)\n",
    "model=torch.nn.Sequential(*(list(model.children())[:-1]))\n",
    "model.eval()"
   ]
  },
  {
   "cell_type": "code",
   "execution_count": 6,
   "id": "9efd615b-048a-4cd7-8d6d-06b6b9ac007b",
   "metadata": {},
   "outputs": [],
   "source": [
    "preprocess = transforms.Compose([\n",
    "    transforms.Resize((224,224)),\n",
    "    transforms.ToTensor(),\n",
    "    transforms.Normalize(mean=[0.485, 0.456, 0.406], std=[0.229, 0.224, 0.225]),\n",
    "])"
   ]
  },
  {
   "cell_type": "markdown",
   "id": "6779f3d1",
   "metadata": {},
   "source": [
    "input_images = []\n",
    "classes = []\n",
    "four_label= sorted(os.listdir(desktop))\n",
    "for index, name in enumerate(four_label):\n",
    "    folder = os.path.join(desktop, name)\n",
    "    files = glob(os.path.join(folder, '*.jpg'))\n",
    "    for file in files:\n",
    "        image_path = os.path.join(folder, file)\n",
    "        image = Image.open(file).convert(\"RGB\")\n",
    "        image = preprocess(image)\n",
    "        image = image.unsqueeze(0) # create a mini-batch as expected by the model\n",
    "        image=model(image).squeeze().detach().numpy()\n",
    "        input_images.append(image)\n",
    "        classes.append(index)"
   ]
  },
  {
   "cell_type": "code",
   "execution_count": 10,
   "id": "d9ebeb14-9530-4c08-85b1-3d4598afc575",
   "metadata": {},
   "outputs": [],
   "source": [
    "input_images=np.array(input_images)\n",
    "classes=np.array(classes)"
   ]
  },
  {
   "cell_type": "code",
   "execution_count": 12,
   "id": "1ebf5eef-2932-4712-a89b-c271d63c95a2",
   "metadata": {},
   "outputs": [],
   "source": [
    "#reducing components\n",
    "from sklearn.decomposition import PCA\n",
    "reduced=PCA(2)\n",
    "reduced_input=reduced.fit_transform(input_images)"
   ]
  },
  {
   "cell_type": "code",
   "execution_count": 15,
   "id": "d05cb059-a78a-49d4-86e4-89cb2499bf67",
   "metadata": {},
   "outputs": [],
   "source": [
    "from sklearn.cluster import KMeans,BisectingKMeans,SpectralClustering,AgglomerativeClustering,DBSCAN\n",
    "from sklearn.metrics import fowlkes_mallows_score, silhouette_score"
   ]
  },
  {
   "cell_type": "code",
   "execution_count": 21,
   "id": "b13f3de8-8446-4845-bfe4-7922f4202dab",
   "metadata": {},
   "outputs": [],
   "source": [
    "fowlkes_mallow,silhouette_cof=[],[]"
   ]
  },
  {
   "cell_type": "code",
   "execution_count": 22,
   "id": "4b7085d3-f888-4f08-a762-33af9a3495ee",
   "metadata": {},
   "outputs": [],
   "source": [
    "for init in ['random','k-means++']:\n",
    "    model=KMeans(n_clusters=4, init= init, random_state=42).fit_predict(reduced_input)\n",
    "    fowlkes_mallow.append((fowlkes_mallows_score(classes, model),f'{init}')),silhouette_cof.append((silhouette_score(reduced_input,model),f'{init}'))"
   ]
  },
  {
   "cell_type": "code",
   "execution_count": 24,
   "id": "659641e1-f988-4617-9a6a-d660e54e9eeb",
   "metadata": {},
   "outputs": [
    {
     "data": {
      "text/plain": [
       "(None, None)"
      ]
     },
     "execution_count": 24,
     "metadata": {},
     "output_type": "execute_result"
    }
   ],
   "source": [
    "model=SpectralClustering(n_clusters=4,random_state=42).fit_predict(reduced_input)\n",
    "fowlkes_mallow.append((fowlkes_mallows_score(classes, model),'Specctral_clustering')),silhouette_cof.append((silhouette_score(reduced_input,model),'Specctral_clustering'))"
   ]
  },
  {
   "cell_type": "code",
   "execution_count": 26,
   "id": "665aaa8d-03f9-4194-be5f-d6083715a934",
   "metadata": {},
   "outputs": [
    {
     "data": {
      "text/plain": [
       "(None, None)"
      ]
     },
     "execution_count": 26,
     "metadata": {},
     "output_type": "execute_result"
    }
   ],
   "source": [
    "model=BisectingKMeans(n_clusters=4,init='random',random_state=42).fit_predict(reduced_input)\n",
    "fowlkes_mallow.append((fowlkes_mallows_score(classes, model),'Bisecting_kmeans')),silhouette_cof.append((silhouette_score(reduced_input,model),'Bisecting_kmeans'))"
   ]
  },
  {
   "cell_type": "code",
   "execution_count": 48,
   "id": "a31333bc-0998-4b1b-926f-44b2ccdc6167",
   "metadata": {},
   "outputs": [
    {
     "data": {
      "text/plain": [
       "(None, None)"
      ]
     },
     "execution_count": 48,
     "metadata": {},
     "output_type": "execute_result"
    }
   ],
   "source": [
    "model = DBSCAN(eps=0.55, min_samples=10).fit_predict(reduced_input)\n",
    "fowlkes_mallow.append((fowlkes_mallows_score(classes, model),'DBSCAN')),silhouette_cof.append((silhouette_score(reduced_input,model),'DBSCAN'))"
   ]
  },
  {
   "cell_type": "code",
   "execution_count": 49,
   "id": "fe302405-d551-4d8a-8c3c-3ce74feee4d1",
   "metadata": {},
   "outputs": [
    {
     "name": "stdout",
     "output_type": "stream",
     "text": [
      "Number of clusters: 4\n"
     ]
    }
   ],
   "source": [
    "clusters = len(set(model)) - (1 if -1 in model else 0)\n",
    "print(f\"Number of clusters: {clusters}\")"
   ]
  },
  {
   "cell_type": "code",
   "execution_count": 50,
   "id": "ef49b026-1e22-436e-8516-7e5d5015257a",
   "metadata": {},
   "outputs": [],
   "source": [
    "for link in ['single','complete','average','ward']:\n",
    "    model=AgglomerativeClustering(n_clusters=4, linkage= link).fit_predict(reduced_input)\n",
    "    fowlkes_mallow.append((fowlkes_mallows_score(classes, model),f'{link}')),silhouette_cof.append((silhouette_score(reduced_input,model),f'{link}'))"
   ]
  },
  {
   "cell_type": "markdown",
   "id": "0fef7653-488a-45f8-ab2d-d402fa33c59c",
   "metadata": {},
   "source": [
    "#### best to worst silhouette_coefficient :"
   ]
  },
  {
   "cell_type": "code",
   "execution_count": 52,
   "id": "7ed36105-63b3-4bee-8814-7b91b97ead29",
   "metadata": {},
   "outputs": [
    {
     "data": {
      "text/plain": [
       "[(0.6235918, 'random'),\n",
       " (0.6235918, 'k-means++'),\n",
       " (0.62225515, 'ward'),\n",
       " (0.6221962, 'Specctral_clustering'),\n",
       " (0.6218227, 'complete'),\n",
       " (0.6210831, 'Bisecting_kmeans'),\n",
       " (0.61992186, 'average'),\n",
       " (-0.04253666, 'single'),\n",
       " (-0.44324148, 'DBSCAN')]"
      ]
     },
     "execution_count": 52,
     "metadata": {},
     "output_type": "execute_result"
    }
   ],
   "source": [
    "sorted(silhouette_cof,key=lambda x:x[0],reverse=True)"
   ]
  },
  {
   "cell_type": "markdown",
   "id": "ede1beae-111c-40e2-9b95-378b51b2c499",
   "metadata": {},
   "source": [
    "#### best to worst fowlkes_scores :\n"
   ]
  },
  {
   "cell_type": "code",
   "execution_count": 54,
   "id": "b939e1d4-8afe-4841-a8e8-f266edeacbcc",
   "metadata": {},
   "outputs": [
    {
     "data": {
      "text/plain": [
       "[(0.9696193882431478, 'complete'),\n",
       " (0.9667587820631002, 'random'),\n",
       " (0.9667587820631002, 'k-means++'),\n",
       " (0.9643100149450072, 'Specctral_clustering'),\n",
       " (0.9641399569249511, 'ward'),\n",
       " (0.9620179763497949, 'average'),\n",
       " (0.9617040486162625, 'Bisecting_kmeans'),\n",
       " (0.4986377685134068, 'single'),\n",
       " (0.47379697292390527, 'DBSCAN')]"
      ]
     },
     "execution_count": 54,
     "metadata": {},
     "output_type": "execute_result"
    }
   ],
   "source": [
    "sorted(fowlkes_mallow,key=lambda x:x[0],reverse=True)"
   ]
  },
  {
   "cell_type": "code",
   "execution_count": 24,
   "id": "c4f1bee1-9425-40b3-badf-a91138402ccb",
   "metadata": {},
   "outputs": [
    {
     "name": "stdout",
     "output_type": "stream",
     "text": [
      "\n",
      "Ranking based on Silhouette Coefficient:\n",
      "1. random - Silhouette Coefficient: 0.6229459643363953\n",
      "2. k-means++ - Silhouette Coefficient: 0.6229459643363953\n",
      "3. Specctral_clustering - Silhouette Coefficient: 0.6218364238739014\n",
      "4. Bisecting_kmeans - Silhouette Coefficient: 0.6210035681724548\n",
      "5. average - Silhouette Coefficient: 0.6196712851524353\n",
      "6. ward - Silhouette Coefficient: 0.6196315884590149\n",
      "7. complete - Silhouette Coefficient: 0.6155784130096436\n",
      "8. single - Silhouette Coefficient: -0.05801675468683243\n",
      "9. DBSCAN - Silhouette Coefficient: -0.24252061545848846\n"
     ]
    }
   ],
   "source": [
    "sorted_silhouette = sorted(silhouette_cof, key=lambda x: x[0], reverse=True)\n",
    "print(\"\\nRanking based on Silhouette Coefficient:\")\n",
    "for rank, (score, method) in enumerate(sorted_silhouette, start=1):\n",
    "    print(f\"{rank}. {method} - Silhouette Coefficient: {score}\")"
   ]
  },
  {
   "cell_type": "code",
   "execution_count": 25,
   "id": "03236f02",
   "metadata": {},
   "outputs": [
    {
     "name": "stdout",
     "output_type": "stream",
     "text": [
      "\n",
      "Ranking based on Fowlkes-Mallows Index:\n",
      "1. Specctral_clustering - Fowlkes-Mallows Index: 0.9723869207977962\n",
      "2. Bisecting_kmeans - Fowlkes-Mallows Index: 0.9668210291034108\n",
      "3. random - Fowlkes-Mallows Index: 0.9642248536253374\n",
      "4. k-means++ - Fowlkes-Mallows Index: 0.9642248536253374\n",
      "5. average - Fowlkes-Mallows Index: 0.9641790636313344\n",
      "6. ward - Fowlkes-Mallows Index: 0.953188710705752\n",
      "7. complete - Fowlkes-Mallows Index: 0.9480596231176764\n",
      "8. single - Fowlkes-Mallows Index: 0.4986377685134068\n",
      "9. DBSCAN - Fowlkes-Mallows Index: 0.4777854411290982\n"
     ]
    }
   ],
   "source": [
    "sorted_fowlkes = sorted(fowlkes_mallow, key=lambda x: x[0], reverse=True)\n",
    "print(\"\\nRanking based on Fowlkes-Mallows Index:\")\n",
    "for rank, (score, method) in enumerate(sorted_fowlkes, start=1):\n",
    "    print(f\"{rank}. {method} - Fowlkes-Mallows Index: {score}\")"
   ]
  },
  {
   "cell_type": "markdown",
   "id": "9da4b121",
   "metadata": {},
   "source": [
    "#References"
   ]
  },
  {
   "cell_type": "markdown",
   "id": "1adc29d9",
   "metadata": {},
   "source": [
    "https://scikit-learn.org/stable/modules/clustering.html"
   ]
  },
  {
   "cell_type": "markdown",
   "id": "5da4fb84",
   "metadata": {},
   "source": [
    "https://pytorch.org/hub/pytorch_vision_resnet"
   ]
  },
  {
   "cell_type": "markdown",
   "id": "b9196bd6",
   "metadata": {},
   "source": [
    "https://scikit-learn.sourceforge.net/stable/modules/generated/sklearn.cluster.Ward.html"
   ]
  }
 ],
 "metadata": {
  "kernelspec": {
   "display_name": "Python 3 (ipykernel)",
   "language": "python",
   "name": "python3"
  },
  "language_info": {
   "codemirror_mode": {
    "name": "ipython",
    "version": 3
   },
   "file_extension": ".py",
   "mimetype": "text/x-python",
   "name": "python",
   "nbconvert_exporter": "python",
   "pygments_lexer": "ipython3",
   "version": "3.9.13"
  }
 },
 "nbformat": 4,
 "nbformat_minor": 5
}
